{
 "cells": [
  {
   "cell_type": "markdown",
   "metadata": {},
   "source": [
    "## Simulate the paper of Guizzi (optimal case)"
   ]
  },
  {
   "cell_type": "markdown",
   "metadata": {},
   "source": [
    "Use the package to make your own LAES plant. A charging and discharge cycle are implemented in the package, but here is how you could use the different components to simulate any LAES plant configuration. Extra compressors can be implemented, the parameters can be changed, etc.\n",
    "\n",
    "Remarks: \n",
    "- I only used Essotherm650 as thermal oil. If you want to change this, the cp values have to be put into the State definition.\n",
    "- The optimal liquefaction pressure p2 and optimal discharge pressure p2R are used."
   ]
  },
  {
   "cell_type": "code",
   "execution_count": 3,
   "metadata": {},
   "outputs": [],
   "source": [
    "# Use the Package \n",
    "using LAES"
   ]
  },
  {
   "cell_type": "markdown",
   "metadata": {},
   "source": [
    "### Charging cycle"
   ]
  },
  {
   "cell_type": "code",
   "execution_count": 11,
   "metadata": {},
   "outputs": [
    {
     "data": {
      "text/plain": [
       "(LAES.AirState(\"gas\", 100000.0, 296.2588948, 298526.1763931237, 6881.2587086674175, 1.0, 0.7932538025804501, 0.0, 0.0), LAES.AirState(\"gas\", 1.48e6, 687.1398947999957, 704860.3530906576, 6973.747196480283, 1.0, 0.7932538025804501, 0.0, 0.0), LAES.AirState(\"gas\", 1.4652e6, 308.15, 307095.05762396846, 6137.482449078084, 1.0, 0.7932538025804501, 0.0, 0.0), LAES.AirState(\"gas\", 1.8098e7, 679.3889999999958, 698844.8888265755, 6227.440700601186, 1.0, 0.7932538025804501, 0.0, 0.0), LAES.AirState(\"gas\", 1.791702e7, 308.15, 276968.6515793503, 5325.927988723529, 1.0, 0.7932538025804501, 0.0, 0.0), LAES.AirState(\"gas\", 1.7560471302e7, 98.0, -78704.23204003804, 3306.8621849616334, 1.0, 0.7932538025804501, 0.0, 0.0), LAES.AirState(\"2phase\", 102000.0, 78.99899999999522, -93367.53906411325, 3386.3509052873437, 1.0, 0.9256479423055566, 0.7693857525152417, 0.8506000000000004), LAES.AirState(\"liquid\", 102000.0, 78.99899999999522, -123586.77624124315, 3016.2962086550497, 0.8506000000000004, 0.0, 0.7693857525152417, 1.0), LAES.AirState(\"gas\", 102000.0, 78.99899999999522, 78683.88759496817, 5493.235275805616, 0.14939999999999964, 0.9256479423055566, 0.0, 0.0), LAES.AirState(\"gas\", 100000.0, 285.49200000000013, 292949.10013494827, 6836.079719152203, 0.14939999999999964, 0.9256479423055566, 0.0, 0.0), LAES.AirState(\"gas\", 100000.0, 298.15, 299487.3966392071, 6885.057136892727, 0.8506000000000004, 0.77, 0.0, 0.0), LAES.OilState(\"Essotherm650\", 100000.0, 625.430775, 847484.6184214728, 0.9989999999999999), 0.8506000000000004)"
      ]
     },
     "execution_count": 11,
     "metadata": {},
     "output_type": "execute_result"
    }
   ],
   "source": [
    "# Initialize state10 (ambient)\n",
    "p10 = 100000 #[Pa]\n",
    "T10 = 298.15 #[K]\n",
    "y_N2 = 0.77\n",
    "x_N2 = 0.0\n",
    "liquid_fraction = 0.0\n",
    "mdot1 = 1.0 #[kg/s]\n",
    "state_initial = State(\"Air\",p10,T10,mdot1;phase = \"gas\",y_N2 = y_N2,x_N2 = x_N2,liquid_fraction = liquid_fraction)\n",
    "state_initial.liquid_fraction = 0\n",
    "state1 = state_initial\n",
    "\n",
    "# Initialize the thermal oil \n",
    "stateOil_in = State(\"Essotherm650\",100000,288.15,0.999)\n",
    "oil_distribution = [0.485 0.515] #first value = intercooler 2A-2B,...\n",
    "stateOil_in1 = State(stateOil_in.fluid,stateOil_in.p,stateOil_in.T,stateOil_in.mdot*oil_distribution[1])\n",
    "stateOil_in2 = State(stateOil_in.fluid,stateOil_in.p,stateOil_in.T,stateOil_in.mdot*oil_distribution[2])\n",
    "\n",
    "# Initialize the coolants\n",
    "methanol_min = State(\"Methanol\",100000,214,0.437)\n",
    "methanol_max = State(\"Methanol\",100000,288,0.437)\n",
    "propane_min = State(\"Propane\",100000,93,1.019)\n",
    "propane_max = State(\"Propane\",100000,214,1.019)\n",
    "\n",
    "# The pressure after the compressors\n",
    "p2A = 1480000 #[Pa]\n",
    "p2C = 18098000 #[Pa]\n",
    "\n",
    "# The Temperature of the compressed air after the coldbox\n",
    "T4 = 98 #[K] (propane_min.T + pinch)\n",
    "\n",
    "# Other parameters\n",
    "pinch_IC = 20 #[K]\n",
    "pinch_coldbox = 5 #[K]\n",
    "pressure_loss_IC = 0.01\n",
    "η_c = 0.85\n",
    "η_cryo_e = 0.7\n",
    "solutions = []\n",
    "\n",
    "for i = 1:20\n",
    "    global state2A = isentropic_compressor(state1,p2A,η_c)\n",
    "    global state2B,stateOil_out1 = intercooler(\"Cool\",state2A,stateOil_in1,pinch_IC,pressure_loss_IC)\n",
    "    global state2C = isentropic_compressor(state2B,p2C,η_c)\n",
    "    global state2,stateOil_out2 = intercooler(\"Cool\",state2C,stateOil_in2,pinch_IC,pressure_loss_IC)\n",
    "    state3_p = state2.p-state2.p*pressure_loss_IC\n",
    "    global state4 = State(\"Air\",state3_p-state3_p*pressure_loss_IC,T4,state2.mdot;phase = state2.phase,y_N2 = state2.y_N2,x_N2 = state2.x_N2,liquid_fraction = state2.liquid_fraction)\n",
    "    global state5 =  isentropic_cryoexpander(state4,102000,η_cryo_e)\n",
    "    global state6,state7 = separator(state5)\n",
    "    # The optimal case, means that there are 2 pinch points of 5K --> The outlet temperature of the cold air can be calculated\n",
    "    global yield,T9 = pinch_coldbox_optimal(state2,pinch_coldbox,methanol_min,methanol_max,propane_min,propane_max,η_cryo_e,pressure_loss_IC)\n",
    "    global state9 = State(\"Air\",state1.p,T9,state7.mdot;phase = state7.phase,y_N2 = state7.y_N2,x_N2 = state7.x_N2,liquid_fraction = state7.liquid_fraction)\n",
    "    global state10 = State(\"Air\",state1.p,T10,state6.mdot;phase = \"gas\",y_N2 = 0.77,x_N2 = 0,liquid_fraction = state9.liquid_fraction)#standard conditions\n",
    "\n",
    "    global state1 = State(\"Air\",state1.p,state9.mdot*state9.T+state10.mdot*state10.T,mdot1;phase = \"gas\",y_N2 = state9.mdot*state9.y_N2+state10.mdot*state10.y_N2,x_N2 = x_N2,liquid_fraction = state10.liquid_fraction)\n",
    "\n",
    "    #check convergence\n",
    "    #println(i)\n",
    "    #println(state1) \n",
    "\n",
    "    push!(solutions,state1)\n",
    "    if length(solutions) > 1 && compare(solutions[end-1],solutions[end])\n",
    "        break\n",
    "    end\n",
    "    if i == 20\n",
    "        @warn(\"Did not converge after 20 iterations\")\n",
    "    end\n",
    "end\n",
    "\n",
    "state2H = stateOil_in\n",
    "state1H = State(\"Essotherm650\",stateOil_out1.p,(stateOil_out1.T*oil_distribution[1]+stateOil_out2.T*oil_distribution[2]),(stateOil_out1.mdot+stateOil_out2.mdot))\n",
    "state3H = state1H\n",
    "\n",
    "state1,state2A,state2B,state2C,state2,state4,state5,state6,state7,state9,state10,state1H,yield"
   ]
  },
  {
   "cell_type": "markdown",
   "metadata": {},
   "source": [
    "### Dicharge cycle"
   ]
  },
  {
   "cell_type": "code",
   "execution_count": 12,
   "metadata": {},
   "outputs": [
    {
     "data": {
      "text/plain": [
       "(LAES.AirState(\"liquid\", 100000.0, 78.67184703677418, -124193.02196738153, 3008.6317598816368, 0.8506000000000004, 0.0, 0.7693857525152417, 1.0), LAES.AirState(\"gas\", 6.5e6, 81.66084703677429, -115040.46994577695, 3042.525581045589, 0.8506000000000004, 0.7693857525152417, 0.0, 0.0), LAES.AirState(\"gas\", 6.435e6, 209.0, 176398.77009590165, 5214.086329116974, 0.8506000000000004, 0.7693857525152417, 0.0, 0.0), LAES.AirState(\"gas\", 6.37065e6, 283.0, 266407.53860083903, 5586.918214159231, 0.8506000000000004, 0.7693857525152417, 0.0, 0.0), LAES.AirState(\"gas\", 6.3069435e6, 434.5339999999992, 431855.9194066455, 6059.062239321001, 0.8506000000000004, 0.7693857525152417, 0.0, 0.0), LAES.AirState(\"gas\", 6.243874065e6, 615.430775, 625493.9698025224, 6434.445080104104, 0.8506000000000004, 0.7693857525152417, 0.0, 0.0), LAES.AirState(\"gas\", 1.59e6, 450.17177499999764, 452559.97101949545, 6504.631764555646, 0.8506000000000004, 0.7693857525152417, 0.0, 0.0), LAES.AirState(\"gas\", 1.5741e6, 615.430775, 626007.1622937423, 6835.483217133803, 0.8506000000000004, 0.7693857525152417, 0.0, 0.0), LAES.AirState(\"gas\", 401000.0, 450.76577499999803, 454322.87126820866, 6905.071067172589, 0.8506000000000004, 0.7693857525152417, 0.0, 0.0), LAES.AirState(\"gas\", 396990.0, 615.430775, 626198.6597960436, 7232.703210986814, 0.8506000000000004, 0.7693857525152417, 0.0, 0.0), LAES.AirState(\"gas\", 101000.0, 450.7987749999975, 454655.55849364965, 7302.213491242851, 0.8506000000000004, 0.7693857525152417, 0.0, 0.0), LAES.AirState(\"gas\", 99990.0, 288.0, 289207.13459900307, 6850.009015587351, 0.8506000000000004, 0.7693857525152417, 0.0, 0.0), LAES.OilState(\"Essotherm650\", 100000.0, 456.06554900000003, 384443.9548758071, 0.9989999999999999))"
      ]
     },
     "execution_count": 12,
     "metadata": {},
     "output_type": "execute_result"
    }
   ],
   "source": [
    "# Initialize the thermal oil\n",
    "stateOil_in = state3H\n",
    "oil_distribution = [0.357 0.323 0.320] #first value = intercooler 5R-6R,...\n",
    "\n",
    "# The pressure after the pump\n",
    "p2R = 6500000\n",
    "\n",
    "# Other parameters\n",
    "pinch_coldbox = 5\n",
    "pinch_superheaters = 10\n",
    "pressure_loss = 0.01\n",
    "η_pump = 0.7\n",
    "η_e = 0.85\n",
    "\n",
    "state1R = storage_tank(state6,100000)\n",
    "\n",
    "state1R,state2R,state3R,state4R,state5R,state6R,state7R,state8R,state9R,state10R,state11R,state12R,stateOil_out1,stateOil_out2,stateOil_out3 = discharge_cycle(state1R,p2R,stateOil_in,oil_distribution,propane_max,methanol_max,pinch_coldbox,pinch_superheaters,η_e,η_pump,pressure_loss)\n",
    "\n",
    "state4H = State(\"Essotherm650\",stateOil_out1.p,(stateOil_out1.T*oil_distribution[1]+stateOil_out2.T*oil_distribution[2]+stateOil_out3.T*oil_distribution[3]),(stateOil_out1.mdot+stateOil_out2.mdot+stateOil_out3.mdot))\n",
    "\n",
    "state1R,state2R,state3R,state4R,state5R,state6R,state7R,state8R,state9R,state10R,state11R,state12R,state4H"
   ]
  },
  {
   "cell_type": "markdown",
   "metadata": {},
   "source": [
    "### Calculate the efficiency"
   ]
  },
  {
   "cell_type": "code",
   "execution_count": 5,
   "metadata": {},
   "outputs": [
    {
     "ename": "LoadError",
     "evalue": "UndefVarError: state2A not defined",
     "output_type": "error",
     "traceback": [
      "UndefVarError: state2A not defined",
      "",
      "Stacktrace:",
      " [1] top-level scope",
      "   @ In[5]:1",
      " [2] eval",
      "   @ .\\boot.jl:373 [inlined]",
      " [3] include_string(mapexpr::typeof(REPL.softscope), mod::Module, code::String, filename::String)",
      "   @ Base .\\loading.jl:1196"
     ]
    }
   ],
   "source": [
    "W_charging = (state2A.h-state1.h) + (state2C.h-state2B.h) - (state4.h-state5.h) #compressors minus cryoexpander\n",
    "W_discharging = (state6R.h-state7R.h) + (state8R.h-state9R.h) + (state10R.h-state11R.h) - (state2R.h-state1R.h) #expanders minus cryopump\n",
    "η_RT = yield*(W_discharging/W_charging)"
   ]
  }
 ],
 "metadata": {
  "kernelspec": {
   "display_name": "Julia 1.7.3",
   "language": "julia",
   "name": "julia-1.7"
  },
  "language_info": {
   "file_extension": ".jl",
   "mimetype": "application/julia",
   "name": "julia",
   "version": "1.7.3"
  },
  "orig_nbformat": 4,
  "vscode": {
   "interpreter": {
    "hash": "252189e587d1e2aeba4a06e91fa71896c7a7f6e22e918b9407c7cde4ef2d5985"
   }
  }
 },
 "nbformat": 4,
 "nbformat_minor": 2
}
